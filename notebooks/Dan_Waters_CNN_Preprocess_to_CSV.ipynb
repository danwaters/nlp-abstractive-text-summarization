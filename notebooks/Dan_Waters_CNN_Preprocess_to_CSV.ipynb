{
  "nbformat": 4,
  "nbformat_minor": 0,
  "metadata": {
    "colab": {
      "name": "Dan Waters - CNN Preprocess to CSV.ipynb",
      "provenance": [],
      "collapsed_sections": [],
      "machine_shape": "hm"
    },
    "kernelspec": {
      "name": "python3",
      "display_name": "Python 3"
    },
    "language_info": {
      "name": "python"
    },
    "accelerator": "TPU"
  },
  "cells": [
    {
      "cell_type": "markdown",
      "metadata": {
        "id": "egdm8QqfvQjy"
      },
      "source": [
        "## CSCE 5290 - Fall 2021\n",
        "### Final Project - CNN dataset preprocessing\n",
        "After running the same expensive preprocessing over and over again, I decided to dedicate a notebook to just outputting a CSV that is ready for training, and should have done this much earlier."
      ]
    },
    {
      "cell_type": "markdown",
      "metadata": {
        "id": "YnKr9pz4es3e"
      },
      "source": [
        "### Preprocessing"
      ]
    },
    {
      "cell_type": "code",
      "metadata": {
        "id": "kQThzu6QKBwM"
      },
      "source": [
        "# Install the TF dependencies\n",
        "\n",
        "%%capture\n",
        "!pip install tensorflow-datasets\n",
        "!pip install tensorflow-text\n",
        "!python -m spacy download en_core_web_sm"
      ],
      "execution_count": 1,
      "outputs": []
    },
    {
      "cell_type": "code",
      "metadata": {
        "id": "z4F1hFzOMGIt"
      },
      "source": [
        "import tensorflow as tf\n",
        "import tensorflow_text as tf_text\n",
        "from tensorflow.keras.preprocessing.text import Tokenizer\n",
        "import tensorflow_datasets as tfds"
      ],
      "execution_count": 2,
      "outputs": []
    },
    {
      "cell_type": "code",
      "metadata": {
        "id": "CAHQLIy4MD5i",
        "colab": {
          "base_uri": "https://localhost:8080/"
        },
        "outputId": "2328948a-26c0-4cfa-c55e-2ad6d2d49124"
      },
      "source": [
        "# Load and split the dataset\n",
        "# I wish I knew about this much easier TFDS approach when I started the project\n",
        "raw_train_ds, raw_val_ds = tfds.load('cnn_dailymail', split=['train', 'validation'])\n",
        "print(len(raw_train_ds))"
      ],
      "execution_count": 18,
      "outputs": [
        {
          "output_type": "stream",
          "name": "stdout",
          "text": [
            "287113\n"
          ]
        }
      ]
    },
    {
      "cell_type": "code",
      "metadata": {
        "id": "lwcRplA1azl9"
      },
      "source": [
        "import re\n",
        "\n",
        "# Slightly reworked to work with TF tensors\n",
        "# Remove non-alphabetic characters (Data Cleaning)\n",
        "# Use TF string processing instead of python built-ins\n",
        "def clean_text(row):\n",
        "    \n",
        "  row = tf.strings.lower(row)\n",
        "\n",
        "  # carriages\n",
        "  row = tf.strings.regex_replace(row, \"(\\\\t)\", ' ')\n",
        "  row = tf.strings.regex_replace(row, \"(\\\\r)\", ' ')\n",
        "  row = tf.strings.regex_replace(row, \"(\\\\n)\", ' ')\n",
        "\n",
        "  # CNN marker\n",
        "  row = tf.strings.regex_replace(row, \"\\(cnn\\) --\", ' ')\n",
        "  \n",
        "  # Remove _ if it occurs more than one time consecutively\n",
        "  row = tf.strings.regex_replace(row, \"(__+)\", ' ')   \n",
        "  \n",
        "  # Remove - if it occurs more than one time consecutively\n",
        "  row = tf.strings.regex_replace(row, \"(--+)\", ' ')\n",
        "  \n",
        "  # Remove ~ if it occurs more than one time consecutively\n",
        "  row = tf.strings.regex_replace(row, \"(~~+)\", ' ')   \n",
        "  \n",
        "  # Remove + if it occurs more than one time consecutively\n",
        "  row = tf.strings.regex_replace(row, \"(\\+\\++)\", ' ')\n",
        "\n",
        "  # Remove . if it occurs more than one time consecutively\n",
        "  row = tf.strings.regex_replace(row, \"(\\.\\.+)\", ' ')   \n",
        "  \n",
        "  # Remove the characters - <>()|&©ø\"',;?~*!\n",
        "  row = tf.strings.regex_replace(row, r\"[<>()|&©ø\\[\\]\\'\\\",;?~*!]\", ' ') \n",
        "  \n",
        "  # Remove mailto:\n",
        "  row = tf.strings.regex_replace(row, \"(mailto:)\", ' ') \n",
        "  \n",
        "  # Remove \\x9* in text\n",
        "  row = tf.strings.regex_replace(row, r\"(\\\\x9\\d)\", ' ') \n",
        "  \n",
        "  # Remove punctuations at the end of a word \n",
        "  row = tf.strings.regex_replace(row, \"(\\.\\s+)\", ' ') \n",
        "  row = tf.strings.regex_replace(row, \"(\\-\\s+)\", ' ') \n",
        "  row = tf.strings.regex_replace(row, \"(\\:\\s+)\", ' ') \n",
        "  \n",
        "  # Remove multiple spaces\n",
        "  row = tf.strings.regex_replace(row, \"(\\s+)\", ' ') \n",
        "  \n",
        "  # Remove the single character hanging between any two spaces\n",
        "  row = tf.strings.regex_replace(row, \"(\\s+.\\s+)\", ' ') \n",
        "  \n",
        "  return row\n",
        "\n",
        "def clean(row):\n",
        "  row['article'] = clean_text(row['article'])\n",
        "  row['highlights'] = clean_text(row['highlights'])\n",
        "  return row"
      ],
      "execution_count": 14,
      "outputs": []
    },
    {
      "cell_type": "code",
      "metadata": {
        "id": "TbQ5hiJFe1dt"
      },
      "source": [
        "# Clean all datasets\n",
        "train_ds = raw_train_ds.map(clean)\n",
        "val_ds = raw_val_ds.map(clean)"
      ],
      "execution_count": 20,
      "outputs": []
    },
    {
      "cell_type": "code",
      "metadata": {
        "id": "fnXhr_nHguEg"
      },
      "source": [
        "from tqdm import tqdm\n",
        "# Prepare as dataframe\n",
        "train_df = tfds.as_dataframe(train_ds)"
      ],
      "execution_count": 33,
      "outputs": []
    },
    {
      "cell_type": "code",
      "metadata": {
        "colab": {
          "base_uri": "https://localhost:8080/",
          "height": 241
        },
        "id": "X7lAfLiG4TaY",
        "outputId": "0d42d0a0-0497-42c8-e79b-24053aadcbff"
      },
      "source": [
        "# Set a maximum amount of training examples. \n",
        "max_train = 50000\n",
        "\n",
        "# Set length parameters (from EDA workbook)\n",
        "min_text_len = 10\n",
        "max_text_len = 500\n",
        "min_summary_len = 10\n",
        "max_summary_len = 50\n",
        "\n",
        "import pandas as pd\n",
        "clean_train_df = pd.DataFrame()\n",
        "print(f'filtering {len(train_df)} records')\n",
        "for i, r in tqdm(train_df.iterrows()):\n",
        "\n",
        "  article = train_df.iloc[i]['article'].decode('utf-8')\n",
        "  summary = train_df.iloc[i]['highlights'].decode('utf-8')\n",
        "\n",
        "  a_len = len(article.split())\n",
        "  s_len = len(summary.split())\n",
        "\n",
        "  if a_len > min_text_len and a_len < max_text_len \\\n",
        "    and s_len > min_summary_len and s_len < max_summary_len:\n",
        "    clean_train_df = clean_train_df.append({'text': article, 'summary': summary}, ignore_index=True)\n",
        "\n",
        "  if len(clean_train_df) >= max_train:\n",
        "    break\n",
        "\n",
        "clean_train_df.head(5)"
      ],
      "execution_count": 42,
      "outputs": [
        {
          "output_type": "stream",
          "name": "stdout",
          "text": [
            "filtering 287113 records\n"
          ]
        },
        {
          "output_type": "stream",
          "name": "stderr",
          "text": [
            "183769it [03:25, 892.27it/s]\n"
          ]
        },
        {
          "output_type": "execute_result",
          "data": {
            "text/html": [
              "<div>\n",
              "<style scoped>\n",
              "    .dataframe tbody tr th:only-of-type {\n",
              "        vertical-align: middle;\n",
              "    }\n",
              "\n",
              "    .dataframe tbody tr th {\n",
              "        vertical-align: top;\n",
              "    }\n",
              "\n",
              "    .dataframe thead th {\n",
              "        text-align: right;\n",
              "    }\n",
              "</style>\n",
              "<table border=\"1\" class=\"dataframe\">\n",
              "  <thead>\n",
              "    <tr style=\"text-align: right;\">\n",
              "      <th></th>\n",
              "      <th>summary</th>\n",
              "      <th>text</th>\n",
              "    </tr>\n",
              "  </thead>\n",
              "  <tbody>\n",
              "    <tr>\n",
              "      <th>0</th>\n",
              "      <td>bishop john folda of north dakota is taking ti...</td>\n",
              "      <td>by associated press published 14:11 est 25 oct...</td>\n",
              "    </tr>\n",
              "    <tr>\n",
              "      <th>1</th>\n",
              "      <td>criminal complaint cop used his role to help c...</td>\n",
              "      <td>ralph mata was an internal affairs lieutenant...</td>\n",
              "    </tr>\n",
              "    <tr>\n",
              "      <th>2</th>\n",
              "      <td>prime minister and his family are enjoying an ...</td>\n",
              "      <td>he been accused of making many fashion faux pa...</td>\n",
              "    </tr>\n",
              "    <tr>\n",
              "      <th>3</th>\n",
              "      <td>airstrike kills nine syrians in refugee camp s...</td>\n",
              "      <td>beirut syria carried out an airstrike on refug...</td>\n",
              "    </tr>\n",
              "    <tr>\n",
              "      <th>4</th>\n",
              "      <td>china top security official visited afghanista...</td>\n",
              "      <td>kabul afghanistan china top security official ...</td>\n",
              "    </tr>\n",
              "  </tbody>\n",
              "</table>\n",
              "</div>"
            ],
            "text/plain": [
              "                                             summary                                               text\n",
              "0  bishop john folda of north dakota is taking ti...  by associated press published 14:11 est 25 oct...\n",
              "1  criminal complaint cop used his role to help c...   ralph mata was an internal affairs lieutenant...\n",
              "2  prime minister and his family are enjoying an ...  he been accused of making many fashion faux pa...\n",
              "3  airstrike kills nine syrians in refugee camp s...  beirut syria carried out an airstrike on refug...\n",
              "4  china top security official visited afghanista...  kabul afghanistan china top security official ..."
            ]
          },
          "metadata": {},
          "execution_count": 42
        }
      ]
    },
    {
      "cell_type": "code",
      "metadata": {
        "colab": {
          "base_uri": "https://localhost:8080/"
        },
        "id": "LVG5ckEJ7IYW",
        "outputId": "3167bf4f-4951-48a6-9367-35ce22d59fb8"
      },
      "source": [
        "len(clean_train_df)"
      ],
      "execution_count": 43,
      "outputs": [
        {
          "output_type": "execute_result",
          "data": {
            "text/plain": [
              "50000"
            ]
          },
          "metadata": {},
          "execution_count": 43
        }
      ]
    },
    {
      "cell_type": "code",
      "metadata": {
        "id": "eI7vMVVi8e9T"
      },
      "source": [
        "clean_train_df.to_csv('cnn_cleaned_50k.csv')"
      ],
      "execution_count": 44,
      "outputs": []
    },
    {
      "cell_type": "code",
      "metadata": {
        "id": "xR-WtMeD9Dg-"
      },
      "source": [
        "train_X = clean_train_df['text']\n",
        "train_y = clean_train_df['summary']"
      ],
      "execution_count": 46,
      "outputs": []
    },
    {
      "cell_type": "code",
      "metadata": {
        "id": "FPK-9bsUp-AY"
      },
      "source": [
        "import spacy\n",
        "from time import time\n",
        "\n",
        "nlp = spacy.load('en_core_web_sm', disable=['ner', 'parser']) \n",
        "\n",
        "# Process text as batches and yield Doc objects in order\n",
        "text = [str(doc) for doc in nlp.pipe(train_X, batch_size=5000)]\n",
        "\n",
        "summary = ['_START_ '+ str(doc) + ' _END_' for doc in nlp.pipe(train_y, batch_size=5000)]"
      ],
      "execution_count": 47,
      "outputs": []
    },
    {
      "cell_type": "code",
      "metadata": {
        "colab": {
          "base_uri": "https://localhost:8080/",
          "height": 140
        },
        "id": "xd-913uhqA6N",
        "outputId": "f6021efd-3145-4236-d90e-402b8644832b"
      },
      "source": [
        "text[0]"
      ],
      "execution_count": 48,
      "outputs": [
        {
          "output_type": "execute_result",
          "data": {
            "application/vnd.google.colaboratory.intrinsic+json": {
              "type": "string"
            },
            "text/plain": [
              "'by associated press published 14:11 est 25 october 2013 updated 15:36 est 25 october 2013 the bishop of the fargo catholic diocese in north dakota has exposed potentially hundreds of church members in fargo grand forks and jamestown to the hepatitis virus in late september and early october the state health department has issued an advisory of exposure for anyone who attended five churches and took communion bishop john folda pictured of the fargo catholic diocese in north dakota has exposed potentially hundreds of church members in fargo grand forks and jamestown to the hepatitis state immunization program manager molly howell says the risk is low but officials feel it important to alert people to the possible exposure the diocese announced on monday that bishop john folda is taking time off after being diagnosed with hepatitis the diocese says he contracted the infection through contaminated food while attending conference for newly ordained bishops in italy last month symptoms of hepatitis include fever tiredness loss of appetite nausea and abdominal discomfort fargo catholic diocese in north dakota pictured is where the bishop is located .'"
            ]
          },
          "metadata": {},
          "execution_count": 48
        }
      ]
    },
    {
      "cell_type": "code",
      "metadata": {
        "colab": {
          "base_uri": "https://localhost:8080/",
          "height": 53
        },
        "id": "2kKmLeXlsG_Q",
        "outputId": "7971e40a-dbbd-421c-8557-b2c925f4edb1"
      },
      "source": [
        "summary[0]"
      ],
      "execution_count": 49,
      "outputs": [
        {
          "output_type": "execute_result",
          "data": {
            "application/vnd.google.colaboratory.intrinsic+json": {
              "type": "string"
            },
            "text/plain": [
              "'_START_ bishop john folda of north dakota is taking time off after being diagnosed he contracted the infection through contaminated food in italy church members in fargo grand forks and jamestown could have been exposed . _END_'"
            ]
          },
          "metadata": {},
          "execution_count": 49
        }
      ]
    },
    {
      "cell_type": "code",
      "metadata": {
        "id": "mzvuyysisIs1"
      },
      "source": [
        "import pandas as pd\n",
        "pre = pd.DataFrame()\n",
        "pre['text'] = pd.Series(text)\n",
        "pre['summary'] = pd.Series(summary)"
      ],
      "execution_count": 54,
      "outputs": []
    },
    {
      "cell_type": "code",
      "metadata": {
        "id": "8eQz7Ks9svTB"
      },
      "source": [
        "post_pre = pre\n",
        "# Add sostok and eostok at the start and end of the summary\n",
        "post_pre['summary'] = post_pre['summary'].apply(lambda x: 'sostok ' + x + ' eostok')"
      ],
      "execution_count": 55,
      "outputs": []
    },
    {
      "cell_type": "code",
      "metadata": {
        "colab": {
          "base_uri": "https://localhost:8080/",
          "height": 112
        },
        "id": "rv3iF4D2sxCp",
        "outputId": "205e4ec2-2bc8-48fd-c932-482371469635"
      },
      "source": [
        "post_pre.head(2)"
      ],
      "execution_count": 56,
      "outputs": [
        {
          "output_type": "execute_result",
          "data": {
            "text/html": [
              "<div>\n",
              "<style scoped>\n",
              "    .dataframe tbody tr th:only-of-type {\n",
              "        vertical-align: middle;\n",
              "    }\n",
              "\n",
              "    .dataframe tbody tr th {\n",
              "        vertical-align: top;\n",
              "    }\n",
              "\n",
              "    .dataframe thead th {\n",
              "        text-align: right;\n",
              "    }\n",
              "</style>\n",
              "<table border=\"1\" class=\"dataframe\">\n",
              "  <thead>\n",
              "    <tr style=\"text-align: right;\">\n",
              "      <th></th>\n",
              "      <th>text</th>\n",
              "      <th>summary</th>\n",
              "    </tr>\n",
              "  </thead>\n",
              "  <tbody>\n",
              "    <tr>\n",
              "      <th>0</th>\n",
              "      <td>by associated press published 14:11 est 25 oct...</td>\n",
              "      <td>sostok _START_ bishop john folda of north dako...</td>\n",
              "    </tr>\n",
              "    <tr>\n",
              "      <th>1</th>\n",
              "      <td>ralph mata was an internal affairs lieutenant...</td>\n",
              "      <td>sostok _START_ criminal complaint cop used his...</td>\n",
              "    </tr>\n",
              "  </tbody>\n",
              "</table>\n",
              "</div>"
            ],
            "text/plain": [
              "                                                text                                            summary\n",
              "0  by associated press published 14:11 est 25 oct...  sostok _START_ bishop john folda of north dako...\n",
              "1   ralph mata was an internal affairs lieutenant...  sostok _START_ criminal complaint cop used his..."
            ]
          },
          "metadata": {},
          "execution_count": 56
        }
      ]
    },
    {
      "cell_type": "code",
      "metadata": {
        "id": "W6TE23nqBowc"
      },
      "source": [
        "post_pre.to_csv('cnn_post_pre_50k.csv')"
      ],
      "execution_count": 57,
      "outputs": []
    }
  ]
}