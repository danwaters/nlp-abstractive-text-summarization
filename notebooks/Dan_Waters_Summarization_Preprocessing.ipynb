{
  "nbformat": 4,
  "nbformat_minor": 0,
  "metadata": {
    "colab": {
      "name": "Dan Waters - Summarization - Preprocessing.ipynb",
      "provenance": [],
      "collapsed_sections": []
    },
    "kernelspec": {
      "name": "python3",
      "display_name": "Python 3"
    },
    "language_info": {
      "name": "python"
    },
    "accelerator": "GPU"
  },
  "cells": [
    {
      "cell_type": "markdown",
      "metadata": {
        "id": "Q-zrZuo6m1QS"
      },
      "source": [
        "#### Data acquisition"
      ]
    },
    {
      "cell_type": "code",
      "metadata": {
        "id": "F2bpsA1Cw7BZ"
      },
      "source": [
        "import re\n",
        "import pandas as pd"
      ],
      "execution_count": 1,
      "outputs": []
    },
    {
      "cell_type": "code",
      "metadata": {
        "colab": {
          "base_uri": "https://localhost:8080/"
        },
        "id": "M6nj_sDgrBQH",
        "outputId": "7d7cc21d-3023-456f-817e-10e82783d6df"
      },
      "source": [
        "# Google Drive IDs for downloading:\n",
        "# cnn_stories:        1-cnX-wKYbPffFwYjjAqLMTeg06-ZA20l\n",
        "# cnn:                1qSFGn8k8UGvYyativmDBAvK0VoCdL3qb\n",
        "# dailymail_stories:  1DB4jQ0EppiTbU2VFypS737UzNcwPMgWl\n",
        "# dailymail:          1MESLPrObd9Vd97rBb2J5jvs1CuvXywvD\n",
        "DATASET_CNN_STORIES = 'cnn_stories'\n",
        "DATASET_CNN = 'cnn'\n",
        "DATASET_DM_STORIES = 'dailymail_stories'\n",
        "DATASET_DM = 'dailymail'\n",
        "\n",
        "g_ids = {\n",
        "    DATASET_CNN_STORIES: '1-cnX-wKYbPffFwYjjAqLMTeg06-ZA20l',\n",
        "    DATASET_CNN: '1qSFGn8k8UGvYyativmDBAvK0VoCdL3qb',\n",
        "    DATASET_DM_STORIES: '1DB4jQ0EppiTbU2VFypS737UzNcwPMgWl',\n",
        "    DATASET_DM: '1MESLPrObd9Vd97rBb2J5jvs1CuvXywvD'\n",
        "}\n",
        "\n",
        "# create directories\n",
        "!mkdir ./data\n",
        "\n",
        "# data helpers\n",
        "def download_dataset(name):\n",
        "  assert name in g_ids.keys(), 'Dataset not found.'\n",
        "  !gdown --id {g_ids[name]} -d\n",
        "\n",
        "def unzip_dataset(name):\n",
        "  assert name in g_ids.keys(), 'Dataset not found.'\n",
        "  !mkdir ./data/{name}\n",
        "  !tar -xf /content/{name}.tgz -C ./data/{name}/"
      ],
      "execution_count": 11,
      "outputs": [
        {
          "output_type": "stream",
          "name": "stdout",
          "text": [
            "mkdir: cannot create directory ‘./data’: File exists\n"
          ]
        }
      ]
    },
    {
      "cell_type": "code",
      "metadata": {
        "colab": {
          "base_uri": "https://localhost:8080/"
        },
        "id": "4taAnn0jsTXr",
        "outputId": "0fe7045d-1783-4c7e-9e12-9de4dfab66db"
      },
      "source": [
        "download_dataset(DATASET_CNN_STORIES)"
      ],
      "execution_count": 6,
      "outputs": [
        {
          "output_type": "stream",
          "name": "stdout",
          "text": [
            "Downloading...\n",
            "From: https://drive.google.com/uc?id=1-cnX-wKYbPffFwYjjAqLMTeg06-ZA20l\n",
            "To: /content/cnn_stories.tgz\n",
            "100% 159M/159M [00:00<00:00, 207MB/s]\n"
          ]
        }
      ]
    },
    {
      "cell_type": "code",
      "metadata": {
        "id": "z2jgCUBD1oQs"
      },
      "source": [
        "unzip_dataset(DATASET_CNN_STORIES)"
      ],
      "execution_count": 12,
      "outputs": []
    },
    {
      "cell_type": "code",
      "metadata": {
        "colab": {
          "base_uri": "https://localhost:8080/"
        },
        "id": "JQQBVxlJnwLV",
        "outputId": "aae1879a-6e9f-49de-fbe6-bd1c31094906"
      },
      "source": [
        "!cat /content/data/cnn_stories/cnn/stories/00027e965c8264c35cc1bc55556db388da82b07f.story"
      ],
      "execution_count": 13,
      "outputs": [
        {
          "output_type": "stream",
          "name": "stdout",
          "text": [
            "Kansas City, Missouri (CNN) -- The General Services Administration, already under investigation for lavish spending, allowed an employee to telecommute from Hawaii even though he is based at the GSA's Kansas City, Missouri, office, a CNN investigation has found.\n",
            "\n",
            "It cost more than $24,000 for the business development specialist to travel to and from the mainland United States over the past year.\n",
            "\n",
            "He is among several hundred GSA \"virtual\" workers who also travel to various conferences and their home offices, costing the agency millions of dollars over the past three years.\n",
            "\n",
            "Under the program, employees work from home and may live in another state from the region in which they're actually assigned.\n",
            "\n",
            "The Kansas City employee, who started his job in January 2011, is paid $84,440 and works from his home in Honolulu, a GSA representative confirmed.\n",
            "\n",
            "In the past year, according to GSA travel records, the employee has flown back to the mainland nine times for conferences and meetings. Four of those trips were to St. Louis; four were to Washington, with a side trip to Cincinnati; and one was to San Diego. The total cost to taxpayers was $24,221.\n",
            "\n",
            "Jason Klumb, the GSA's regional administrator for Kansas City, defended the hire.\n",
            "\n",
            "\"The cost of that travel was included in the consideration of his candidacy as an employee as compared with the other applicants,\" Klumb said. \"And when factoring all of those in, it was determined that he was the best candidate, even in light of the cost that would be incurred.\"\n",
            "\n",
            "Klumb called the GSA's teleworking program \"a successful program that's going to lead to cost savings for taxpayers.\"\n",
            "\n",
            "But a GSA spokeswoman said, \"We are not going to defend this type of travel.\"\n",
            "\n",
            "And a GSA employee in Kansas City, who requested anonymity, said that hiring someone in Hawaii to work for the Kansas City region was ludicrous.\n",
            "\n",
            "\"It doesn't make sense,\" the employee said. \"When you consider everything you need when you hire someone, it would have been better to look for someone in the Kansas City area. It would have reduced the cost of travel by at least 70 percent when you look at just the airfare of what it takes to from Honolulu to Washington, D.C., where a lot of business is done.\"\n",
            "\n",
            "Dan Tangherlini, who was appointed acting GSA administrator this year, said the agency was examining the cost of the entire teleworking program.\n",
            "\n",
            "\"I think the most important part for the GSA to think about is make sure we open ourselves up, avail ourselves to all the smart people in the country, but then also make sure we have a clear business case,\" he said. \"If we have someone who is working in Nebraska but reporting to Boston, there has to be a clear explanation for what value they're providing, and you've got to give me the business case. You've got to explain to me why that's a cost-effective move for the American people, and that's a new standard that we're asking everyone at GSA to adhere to.\"\n",
            "\n",
            "The GSA \"virtual employee\" program is different from telework programs offered by many private companies including CNN's parent company, Turner Broadcasting, in which some employees are encouraged to work from home some days of the week, partially to reduce traffic congestion.\n",
            "\n",
            "The House Committee on Oversight and Government Reform requested details about the GSA's teleworking program in June. That followed disclosures that 95 virtual employees, including 12 in supervisory positions, spent nearly $750,000 in travel costs between October 2010 and June 2011.\n",
            "\n",
            "\"The American people have a right to know that federal bureaucrats who enjoy the benefits of virtual work are eligible and responsible stewards of the taxpayer dollars that support the program,\" according to a letter from committee Chairman Rep. Darrell Issa, R-California, to the GSA.\n",
            "\n",
            "The details requested by Issa about the GSA program have not been provided to the committee. CNN also requested the information more than two months ago through the federal Freedom of Information Act but has been repeatedly told by the GSA that FOIA staff members have not finished compiling the material.\n",
            "\n",
            "The General Services Administration, which has more than 12,600 employees and a $26.3 billion budget, is a relatively obscure federal agency that handles government real estate and other non-military procurement. Congress launched an investigation into the GSA after a scathing inspector general's report issued this year showed lavish spending -- $823,000 -- at the agency's Western Regions Conference in Las Vegas in October 2010.\n",
            "\n",
            "The controversy became politically toxic after reports and video clips of the lavish conference were released. The revelation prompted taxpayer indignation, embarrassed the administration and put a spotlight on wasteful spending by the GSA.\n",
            "\n",
            "Jeff Neely, the GSA official who organized the conference, resigned, as did the agency's administrator, Martha Johnson. Two of Johnson's deputies were fired, and eight other employees left the agency. Tangherlini, a former Treasury Department official, took over as acting GSA administrator.\n",
            "\n",
            "In addition to the Las Vegas conference, the GSA apparently spent $330,000 to relocate an employee from Denver to Hawaii and probably millions more on other employees over a two-year period, according to a transcript of an interview with a GSA event planner. And 84 GSA employees, most of them supervisors or other senior staff -- all subjects of inspector general investigations -- are still collecting their bonuses, totaling more than $1 million in taxpayer money.\n",
            "\n",
            "In July, a CNN investigation revealed that the GSA's Kansas City office spent more than $20,000 to send employees to cooking classes to build team spirit. While the classes do not amount to a significant sum of money in the world of trillion-dollar government budgets, insiders said it was part of the free-spending culture that went on for years at the GSA's Kansas City regional headquarters.\n",
            "\n",
            "GSA spokeswoman Betsaida Alcantara said in a statement this year that all the agency's practices are under a top-down review.\n",
            "\n",
            "CNN's Sara Anwar, Elizabeth M. Nunez and Tom Cohen contributed to this report.\n",
            "\n",
            "Watch Erin Burnett weekdays 7pm ET. For the latest from Erin Burnett click here.\n",
            "\n",
            "@highlight\n",
            "\n",
            "The employee in agency's Kansas City office is among hundreds of \"virtual\" workers\n",
            "\n",
            "@highlight\n",
            "\n",
            "The employee's travel to and from the mainland U.S. last year cost more than $24,000\n",
            "\n",
            "@highlight\n",
            "\n",
            "The telecommuting program, like all GSA practices, is under review"
          ]
        }
      ]
    },
    {
      "cell_type": "code",
      "metadata": {
        "colab": {
          "base_uri": "https://localhost:8080/",
          "height": 137
        },
        "id": "hXfZhEF5qJBa",
        "outputId": "e822f2e0-0870-4078-d138-87cf9c78e553"
      },
      "source": [
        "def split_stories_and_highlights(story):\n",
        "  hl_token = '@highlight'\n",
        "  hl_index = story.find(hl_token)\n",
        "  story_text = story[:hl_index] # up to the first @highlight\n",
        "  highlights = story[hl_index:].split(hl_token)\n",
        "  \n",
        "  # strip whitespace\n",
        "  story_text = story_text.strip()\n",
        "  highlights = [h.strip() for h in highlights if len(h) > 0]\n",
        "  return story_text, highlights\n",
        "\n",
        "def remove_cnn_token(line):\n",
        "  cnn_token = '(CNN) -- '\n",
        "  if cnn_token in line:\n",
        "    line = line[line.find(cnn_token) + len(cnn_token):]\n",
        "  return line\n",
        "\n",
        "def preprocess(story_file):\n",
        "  story_lines = []\n",
        "  with open(story_file) as file:\n",
        "    text = file.read()\n",
        "    story, highlights = split_stories_and_highlights(text)\n",
        "\n",
        "    for line in story.split('\\n'):\n",
        "      # Strip the reporting office header \n",
        "      line = remove_cnn_token(line)\n",
        "      # Lowercase and kill punctuation\n",
        "      line = re.sub('[^a-zA-Z0-9 ]', '', line.lower())\n",
        "      story_lines.append(line)\n",
        "  return ' '.join(story_lines)\n",
        "\n",
        "preprocess('/content/data/cnn_stories/cnn/stories/0005d61497d21ff37a17751829bd7e3b6e4a7c5c.story')"
      ],
      "execution_count": 14,
      "outputs": [
        {
          "output_type": "execute_result",
          "data": {
            "application/vnd.google.colaboratory.intrinsic+json": {
              "type": "string"
            },
            "text/plain": [
              "'four groups that advocate for immigrant rights said thursday they will challenge arizonas new immigration law which allows police to ask anyone for proof of legal us residency  the mexican american legal defense and educational fund the american civil liberties union the aclu of arizona and the national immigration law center held a news conference thursday in phoenix to announce the legal challenge  the arizona community can be assured that a vigorous and sophisticated legal challenge will be mounted in advance of sb1070s implementation seeking to prevent this unconstitutional and discriminatory law from ever taking effect said thomas a saenz president of the mexican american legal defense and educational fund known as maldef  this law will only make the rampant racial profiling of latinos that is already going on in arizona much worse said alessandra soler meetze executive director of the aclu of arizona if this law were implemented citizens would effectively have to carry their papers at all times to avoid arrest it is a low point in modern america when a state law requires police to demand documents from people on the street  republican arizona gov jan brewer signed the law last week it goes into effect 90 days after the close of the legislative session which has not been determined  brewer and others who support the law say it does not involve racial profiling or any other illegal acts  racial profiling is illegal brewer said after signing the bill friday it is illegal in america and its certainly illegal in arizona  the national coalition of latino clergy  christian leaders said sunday it also planned legal action  our churches and pastors in arizona are outraged about the significant threat this antiimmigrant law will have in the lives of arizonas latinos said the rev miguel rivera the groups chairman  this policy violates the rights of american citizens particularly the fastgrowing latino population of arizona by eliminating the basic right of due process which we are certain that the courts will agree rivera said  the law requires immigrants to carry their alien registration documents at all times and requires police to question people if there is reason to suspect theyre in the united states illegally the measure makes it a state crime to live or travel through arizona illegally  it also targets those who hire illegal immigrant day laborers or knowingly transport them  in addition to signing the law brewer also issued an executive order that requires training for local officers on how to implement the law without engaging in racial profiling or discrimination  this training will include what does and does not constitute reasonable suspicion that a person is not legally present in the united states she said  some officials in arizona have expressed their displeasure with the measure phoenix mayor phil gordon said thursday that he is very disappointed  he said he is concerned that calls to boycott arizona businesses and tourism will harm the state  im very incredulous that our state leaders  our socalled leaders  have allowed our state to be split when were suffering economic hardships gordon told cnn  other critics say the bill is unconstitutional and will trample residents civil rights  quite simply this law is a civil rights disaster and an insult to american values said mary bauer legal director of the southern poverty law center no one in our country should be required to produce their papers or demand to prove their innocence what kind of country are we becoming  but a national republican leader said thursday that arizona is just filling a void left by the federal government  i think the people of arizona have a right to pass their laws under the 10th amendment house minority leader john boehner said i think it is clearly a result of the federal governments failure to secure our border and to enforce our laws  gordon said the real solution is comprehensive immigration reform that would allow more immigrants to legally enter the united states  this law doesnt accomplish that he said it doesnt do anything on that  president obama has called on congress to pass a comprehensive immigration reform law this year cnn has learned that senate majority leader harry reid and other top democratic senators will unveil the outlines of that legislation late thursday  but boehner said at a briefing thursday that theres not a chance that congress will approve the measure this year especially after the recent passage of a health care reform bill  ive been out here for a little while and know that in the middle of an election year after weve had bills like health care shoved down our throats and the process twisted tortured pressured bribed you cannot do a serious piece of legislation of this size with this difficulty in this environment he said and its nothing more than a cynical ploy to try and engage voters some segment of voters to show up in this novembers elections  the arizona measure has drawn sharp criticism from the mexican government which issued an advisory to its citizens this week the secretary general of the organization of american states and some member states also expressed concerns about the law wednesday  this is an issue of concern to all citizens of the americas beginning with the citizens of the united states a country with a very rich tradition of immigration and respect for immigrants who have come to lead a better life oas secretary general jose miguel insulza said the rich tradition we all admire of recognizing immigrants in the united states has been harmed undermined  the uproar caused by the law has even spread to the nations pastime protesters plan to demonstrate against the arizona diamondbacks baseball team thursday outside wrigley field in chicago illinois  in arizona two popular singers also will voice their opposition  grammy awardwinning colombian singer shakira is scheduled to meet with gordon on thursday evening  singersongwriter linda ronstadt an arizona native of mexican and german descent also attended the thursday afternoon rally with the immigrant rights groups  what gov brewer signed into law last week is a piece of legislation that threatens the very heart of this great state ronstadt said we must come together and stop sb1070 from pitting neighbor against neighbor to the detriment of us all  federal officials estimate there are about 108 million illegal immigrants in the united states of which about 66 million come from mexico and 760000 from the rest of latin america about 1 million come from asia  arizona which is on the mexican border has about 460000 undocumented immigrants the federal government says at least five other states including california with 26 million have more undocumented immigrants the government says  the other states with more illegal immigrants than arizona are texas florida new york and georgia  a pew research center survey late last year found that americans believe latinos are discriminated against more than any other major racial or ethnic group in american society  the pew survey also indicated that about onethird of the nations latinos say they or someone they know has experienced discrimination about 9 percent said they had been stopped by police or other authorities and asked about their immigration status in the year before the survey  fiftyseven percent of those surveyed said they worried that they a family member or a close friend could be deported'"
            ]
          },
          "metadata": {},
          "execution_count": 14
        }
      ]
    },
    {
      "cell_type": "code",
      "metadata": {
        "id": "TdSAFfNdqqHZ"
      },
      "source": [
        ""
      ],
      "execution_count": null,
      "outputs": []
    }
  ]
}