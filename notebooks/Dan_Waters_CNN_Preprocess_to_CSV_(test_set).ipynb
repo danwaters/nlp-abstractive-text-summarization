{
  "nbformat": 4,
  "nbformat_minor": 0,
  "metadata": {
    "colab": {
      "name": "Dan Waters - CNN Preprocess to CSV (test set).ipynb",
      "provenance": [],
      "collapsed_sections": [],
      "machine_shape": "hm"
    },
    "kernelspec": {
      "name": "python3",
      "display_name": "Python 3"
    },
    "language_info": {
      "name": "python"
    },
    "accelerator": "GPU"
  },
  "cells": [
    {
      "cell_type": "markdown",
      "metadata": {
        "id": "egdm8QqfvQjy"
      },
      "source": [
        "## CSCE 5290 - Fall 2021\n",
        "### Final Project - CNN dataset preprocessing\n",
        "After running the same expensive preprocessing over and over again, I decided to dedicate a notebook to just outputting a CSV that is ready for training, and should have done this much earlier.\n",
        "\n",
        "This notebook preprocesses the test set."
      ]
    },
    {
      "cell_type": "markdown",
      "metadata": {
        "id": "YnKr9pz4es3e"
      },
      "source": [
        "### Preprocessing"
      ]
    },
    {
      "cell_type": "code",
      "metadata": {
        "id": "kQThzu6QKBwM"
      },
      "source": [
        "# Install the TF dependencies\n",
        "\n",
        "%%capture\n",
        "!pip install tensorflow-datasets\n",
        "!pip install tensorflow-text\n",
        "!python -m spacy download en_core_web_sm"
      ],
      "execution_count": 1,
      "outputs": []
    },
    {
      "cell_type": "code",
      "metadata": {
        "id": "z4F1hFzOMGIt"
      },
      "source": [
        "import tensorflow as tf\n",
        "import tensorflow_text as tf_text\n",
        "from tensorflow.keras.preprocessing.text import Tokenizer\n",
        "import tensorflow_datasets as tfds"
      ],
      "execution_count": 2,
      "outputs": []
    },
    {
      "cell_type": "code",
      "metadata": {
        "id": "CAHQLIy4MD5i",
        "colab": {
          "base_uri": "https://localhost:8080/"
        },
        "outputId": "a2576848-4d8c-4ace-9e59-0ba93a6e9c34"
      },
      "source": [
        "# Load and split the dataset\n",
        "# I wish I knew about this much easier TFDS approach when I started the project\n",
        "raw_train_ds, raw_test_ds = tfds.load('cnn_dailymail', split=['train', 'test'])\n",
        "print(len(raw_test_ds))"
      ],
      "execution_count": 4,
      "outputs": [
        {
          "output_type": "stream",
          "name": "stdout",
          "text": [
            "11490\n"
          ]
        }
      ]
    },
    {
      "cell_type": "code",
      "metadata": {
        "id": "lwcRplA1azl9"
      },
      "source": [
        "import re\n",
        "\n",
        "# Slightly reworked to work with TF tensors\n",
        "# Remove non-alphabetic characters (Data Cleaning)\n",
        "# Use TF string processing instead of python built-ins\n",
        "def clean_text(row):\n",
        "    \n",
        "  row = tf.strings.lower(row)\n",
        "\n",
        "  # carriages\n",
        "  row = tf.strings.regex_replace(row, \"(\\\\t)\", ' ')\n",
        "  row = tf.strings.regex_replace(row, \"(\\\\r)\", ' ')\n",
        "  row = tf.strings.regex_replace(row, \"(\\\\n)\", ' ')\n",
        "\n",
        "  # CNN marker\n",
        "  row = tf.strings.regex_replace(row, \"\\(cnn\\) --\", ' ')\n",
        "  \n",
        "  # Remove _ if it occurs more than one time consecutively\n",
        "  row = tf.strings.regex_replace(row, \"(__+)\", ' ')   \n",
        "  \n",
        "  # Remove - if it occurs more than one time consecutively\n",
        "  row = tf.strings.regex_replace(row, \"(--+)\", ' ')\n",
        "  \n",
        "  # Remove ~ if it occurs more than one time consecutively\n",
        "  row = tf.strings.regex_replace(row, \"(~~+)\", ' ')   \n",
        "  \n",
        "  # Remove + if it occurs more than one time consecutively\n",
        "  row = tf.strings.regex_replace(row, \"(\\+\\++)\", ' ')\n",
        "\n",
        "  # Remove . if it occurs more than one time consecutively\n",
        "  row = tf.strings.regex_replace(row, \"(\\.\\.+)\", ' ')   \n",
        "  \n",
        "  # Remove the characters - <>()|&©ø\"',;?~*!\n",
        "  row = tf.strings.regex_replace(row, r\"[<>()|&©ø\\[\\]\\'\\\",;?~*!]\", ' ') \n",
        "  \n",
        "  # Remove mailto:\n",
        "  row = tf.strings.regex_replace(row, \"(mailto:)\", ' ') \n",
        "  \n",
        "  # Remove \\x9* in text\n",
        "  row = tf.strings.regex_replace(row, r\"(\\\\x9\\d)\", ' ') \n",
        "  \n",
        "  # Remove punctuations at the end of a word \n",
        "  row = tf.strings.regex_replace(row, \"(\\.\\s+)\", ' ') \n",
        "  row = tf.strings.regex_replace(row, \"(\\-\\s+)\", ' ') \n",
        "  row = tf.strings.regex_replace(row, \"(\\:\\s+)\", ' ') \n",
        "  \n",
        "  # Remove multiple spaces\n",
        "  row = tf.strings.regex_replace(row, \"(\\s+)\", ' ') \n",
        "  \n",
        "  # Remove the single character hanging between any two spaces\n",
        "  row = tf.strings.regex_replace(row, \"(\\s+.\\s+)\", ' ') \n",
        "  \n",
        "  return row\n",
        "\n",
        "def clean(row):\n",
        "  row['article'] = clean_text(row['article'])\n",
        "  row['highlights'] = clean_text(row['highlights'])\n",
        "  return row"
      ],
      "execution_count": 5,
      "outputs": []
    },
    {
      "cell_type": "code",
      "metadata": {
        "id": "TbQ5hiJFe1dt"
      },
      "source": [
        "# Clean all datasets\n",
        "train_ds = raw_train_ds.map(clean)\n",
        "test_ds = raw_test_ds.map(clean)"
      ],
      "execution_count": 6,
      "outputs": []
    },
    {
      "cell_type": "code",
      "metadata": {
        "id": "fnXhr_nHguEg"
      },
      "source": [
        "from tqdm import tqdm\n",
        "# Prepare as dataframe\n",
        "test_df = tfds.as_dataframe(test_ds)"
      ],
      "execution_count": 7,
      "outputs": []
    },
    {
      "cell_type": "code",
      "metadata": {
        "colab": {
          "base_uri": "https://localhost:8080/",
          "height": 241
        },
        "id": "X7lAfLiG4TaY",
        "outputId": "205488f4-523e-4e0a-8344-5e135228aa58"
      },
      "source": [
        "# Set a maximum amount of training examples. \n",
        "max_train = 10000\n",
        "\n",
        "# Set length parameters (from EDA workbook)\n",
        "min_text_len = 10\n",
        "max_text_len = 500\n",
        "min_summary_len = 10\n",
        "max_summary_len = 50\n",
        "\n",
        "import pandas as pd\n",
        "clean_test_df = pd.DataFrame()\n",
        "print(f'filtering {len(test_df)} records')\n",
        "for i, r in tqdm(test_df.iterrows()):\n",
        "\n",
        "  article = test_df.iloc[i]['article'].decode('utf-8')\n",
        "  summary = test_df.iloc[i]['highlights'].decode('utf-8')\n",
        "\n",
        "  a_len = len(article.split())\n",
        "  s_len = len(summary.split())\n",
        "\n",
        "  if a_len > min_text_len and a_len < max_text_len \\\n",
        "    and s_len > min_summary_len and s_len < max_summary_len:\n",
        "    clean_test_df = clean_test_df.append({'text': article, 'summary': summary}, ignore_index=True)\n",
        "\n",
        "  if len(clean_test_df) >= max_train:\n",
        "    break\n",
        "\n",
        "clean_test_df.head(5)"
      ],
      "execution_count": 9,
      "outputs": [
        {
          "output_type": "stream",
          "name": "stdout",
          "text": [
            "filtering 11490 records\n"
          ]
        },
        {
          "output_type": "stream",
          "name": "stderr",
          "text": [
            "11490it [00:10, 1114.90it/s]\n"
          ]
        },
        {
          "output_type": "execute_result",
          "data": {
            "text/html": [
              "<div>\n",
              "<style scoped>\n",
              "    .dataframe tbody tr th:only-of-type {\n",
              "        vertical-align: middle;\n",
              "    }\n",
              "\n",
              "    .dataframe tbody tr th {\n",
              "        vertical-align: top;\n",
              "    }\n",
              "\n",
              "    .dataframe thead th {\n",
              "        text-align: right;\n",
              "    }\n",
              "</style>\n",
              "<table border=\"1\" class=\"dataframe\">\n",
              "  <thead>\n",
              "    <tr style=\"text-align: right;\">\n",
              "      <th></th>\n",
              "      <th>summary</th>\n",
              "      <th>text</th>\n",
              "    </tr>\n",
              "  </thead>\n",
              "  <tbody>\n",
              "    <tr>\n",
              "      <th>0</th>\n",
              "      <td>experts question if packed out planes are putt...</td>\n",
              "      <td>ever noticed how plane seats appear to be gett...</td>\n",
              "    </tr>\n",
              "    <tr>\n",
              "      <th>1</th>\n",
              "      <td>drunk teenage boy climbed into lion enclosure ...</td>\n",
              "      <td>a drunk teenage boy had to be rescued by secur...</td>\n",
              "    </tr>\n",
              "    <tr>\n",
              "      <th>2</th>\n",
              "      <td>nottingham forest are close to extending dougi...</td>\n",
              "      <td>dougie freedman is on the verge of agreeing ne...</td>\n",
              "    </tr>\n",
              "    <tr>\n",
              "      <th>3</th>\n",
              "      <td>fiorentina goalkeeper neto has been linked wit...</td>\n",
              "      <td>liverpool target neto is also wanted by psg an...</td>\n",
              "    </tr>\n",
              "    <tr>\n",
              "      <th>4</th>\n",
              "      <td>giant pig fell into the swimming pool at his h...</td>\n",
              "      <td>this is the moment that crew of firefighters s...</td>\n",
              "    </tr>\n",
              "  </tbody>\n",
              "</table>\n",
              "</div>"
            ],
            "text/plain": [
              "                                             summary                                               text\n",
              "0  experts question if packed out planes are putt...  ever noticed how plane seats appear to be gett...\n",
              "1  drunk teenage boy climbed into lion enclosure ...  a drunk teenage boy had to be rescued by secur...\n",
              "2  nottingham forest are close to extending dougi...  dougie freedman is on the verge of agreeing ne...\n",
              "3  fiorentina goalkeeper neto has been linked wit...  liverpool target neto is also wanted by psg an...\n",
              "4  giant pig fell into the swimming pool at his h...  this is the moment that crew of firefighters s..."
            ]
          },
          "metadata": {},
          "execution_count": 9
        }
      ]
    },
    {
      "cell_type": "code",
      "metadata": {
        "colab": {
          "base_uri": "https://localhost:8080/"
        },
        "id": "LVG5ckEJ7IYW",
        "outputId": "3167bf4f-4951-48a6-9367-35ce22d59fb8"
      },
      "source": [
        "len(clean_train_df)"
      ],
      "execution_count": null,
      "outputs": [
        {
          "output_type": "execute_result",
          "data": {
            "text/plain": [
              "50000"
            ]
          },
          "metadata": {},
          "execution_count": 43
        }
      ]
    },
    {
      "cell_type": "code",
      "metadata": {
        "id": "eI7vMVVi8e9T"
      },
      "source": [
        "clean_test_df.to_csv('cnn_cleaned_test_10k.csv')"
      ],
      "execution_count": 10,
      "outputs": []
    },
    {
      "cell_type": "code",
      "metadata": {
        "id": "xR-WtMeD9Dg-"
      },
      "source": [
        "train_X = clean_test_df['text']\n",
        "train_y = clean_test_df['summary']"
      ],
      "execution_count": 11,
      "outputs": []
    },
    {
      "cell_type": "code",
      "metadata": {
        "id": "FPK-9bsUp-AY"
      },
      "source": [
        "import spacy\n",
        "from time import time\n",
        "\n",
        "nlp = spacy.load('en_core_web_sm', disable=['ner', 'parser']) \n",
        "\n",
        "# Process text as batches and yield Doc objects in order\n",
        "text = [str(doc) for doc in nlp.pipe(train_X, batch_size=5000)]\n",
        "\n",
        "summary = ['_START_ '+ str(doc) + ' _END_' for doc in nlp.pipe(train_y, batch_size=5000)]"
      ],
      "execution_count": 12,
      "outputs": []
    },
    {
      "cell_type": "code",
      "metadata": {
        "colab": {
          "base_uri": "https://localhost:8080/",
          "height": 140
        },
        "id": "xd-913uhqA6N",
        "outputId": "36cc39cd-2987-4a7b-aba4-1708ff6306a5"
      },
      "source": [
        "text[0]"
      ],
      "execution_count": 13,
      "outputs": [
        {
          "output_type": "execute_result",
          "data": {
            "application/vnd.google.colaboratory.intrinsic+json": {
              "type": "string"
            },
            "text/plain": [
              "'ever noticed how plane seats appear to be getting smaller and smaller with increasing numbers of people taking to the skies some experts are questioning if having such packed out planes is putting passengers at risk they say that the shrinking space on aeroplanes is not only uncomfortable it putting our health and safety in danger more than squabbling over the arm rest shrinking space on planes putting our health and safety in danger this week u.s consumer advisory group set up by the department of transportation said at public hearing that while the government is happy to set standards for animals flying on planes it doesn stipulate minimum amount of space for humans in world where animals have more rights to space and food than humans said charlie leocha consumer representative on the committee.\\xa0 it is time that the dot and faa take stand for humane treatment of passengers but could crowding on planes lead to more serious issues than fighting for space in the overhead lockers crashing elbows and seat back kicking tests conducted by the faa use planes with 31 inch pitch standard which on some airlines has decreased many economy seats on united airlines have 30 inches of room while some airlines offer as little as 28 inches cynthia corbertt human factors researcher with the federal aviation administration that it conducts tests on how quickly passengers can leave plane but these tests are conducted using planes with 31 inches between each row of seats standard which on some airlines has decreased reported the detroit news the distance between two seats from one point on seat to the same point on the seat behind it is known as the pitch while most airlines stick to pitch of 31 inches or above some fall below this while united airlines has 30 inches of space gulf air economy seats have between 29 and 32 inches air asia offers 29 inches and spirit airlines offers just 28 inches british airways has seat pitch of 31 inches while easyjet has 29 inches thomson short haul seat pitch is 28 inches and virgin atlantic is 30-31.'"
            ]
          },
          "metadata": {},
          "execution_count": 13
        }
      ]
    },
    {
      "cell_type": "code",
      "metadata": {
        "colab": {
          "base_uri": "https://localhost:8080/",
          "height": 53
        },
        "id": "2kKmLeXlsG_Q",
        "outputId": "0920ede5-fe33-415e-aa0a-3046786f2942"
      },
      "source": [
        "summary[0]"
      ],
      "execution_count": 14,
      "outputs": [
        {
          "output_type": "execute_result",
          "data": {
            "application/vnd.google.colaboratory.intrinsic+json": {
              "type": "string"
            },
            "text/plain": [
              "'_START_ experts question if packed out planes are putting passengers at risk u.s consumer advisory group says minimum space must be stipulated safety tests conducted on planes with more leg room than airlines offer . _END_'"
            ]
          },
          "metadata": {},
          "execution_count": 14
        }
      ]
    },
    {
      "cell_type": "code",
      "metadata": {
        "id": "mzvuyysisIs1"
      },
      "source": [
        "import pandas as pd\n",
        "pre = pd.DataFrame()\n",
        "pre['text'] = pd.Series(text)\n",
        "pre['summary'] = pd.Series(summary)"
      ],
      "execution_count": 15,
      "outputs": []
    },
    {
      "cell_type": "code",
      "metadata": {
        "id": "8eQz7Ks9svTB"
      },
      "source": [
        "post_pre = pre\n",
        "# Add sostok and eostok at the start and end of the summary\n",
        "post_pre['summary'] = post_pre['summary'].apply(lambda x: 'sostok ' + x + ' eostok')"
      ],
      "execution_count": 16,
      "outputs": []
    },
    {
      "cell_type": "code",
      "metadata": {
        "colab": {
          "base_uri": "https://localhost:8080/",
          "height": 112
        },
        "id": "rv3iF4D2sxCp",
        "outputId": "9fc74ef8-d648-4621-f226-85fa1471d635"
      },
      "source": [
        "post_pre.head(2)"
      ],
      "execution_count": 17,
      "outputs": [
        {
          "output_type": "execute_result",
          "data": {
            "text/html": [
              "<div>\n",
              "<style scoped>\n",
              "    .dataframe tbody tr th:only-of-type {\n",
              "        vertical-align: middle;\n",
              "    }\n",
              "\n",
              "    .dataframe tbody tr th {\n",
              "        vertical-align: top;\n",
              "    }\n",
              "\n",
              "    .dataframe thead th {\n",
              "        text-align: right;\n",
              "    }\n",
              "</style>\n",
              "<table border=\"1\" class=\"dataframe\">\n",
              "  <thead>\n",
              "    <tr style=\"text-align: right;\">\n",
              "      <th></th>\n",
              "      <th>text</th>\n",
              "      <th>summary</th>\n",
              "    </tr>\n",
              "  </thead>\n",
              "  <tbody>\n",
              "    <tr>\n",
              "      <th>0</th>\n",
              "      <td>ever noticed how plane seats appear to be gett...</td>\n",
              "      <td>sostok _START_ experts question if packed out ...</td>\n",
              "    </tr>\n",
              "    <tr>\n",
              "      <th>1</th>\n",
              "      <td>a drunk teenage boy had to be rescued by secur...</td>\n",
              "      <td>sostok _START_ drunk teenage boy climbed into ...</td>\n",
              "    </tr>\n",
              "  </tbody>\n",
              "</table>\n",
              "</div>"
            ],
            "text/plain": [
              "                                                text                                            summary\n",
              "0  ever noticed how plane seats appear to be gett...  sostok _START_ experts question if packed out ...\n",
              "1  a drunk teenage boy had to be rescued by secur...  sostok _START_ drunk teenage boy climbed into ..."
            ]
          },
          "metadata": {},
          "execution_count": 17
        }
      ]
    },
    {
      "cell_type": "code",
      "metadata": {
        "id": "W6TE23nqBowc"
      },
      "source": [
        "post_pre.to_csv('cnn_post_pre_test_10k.csv')"
      ],
      "execution_count": 18,
      "outputs": []
    }
  ]
}